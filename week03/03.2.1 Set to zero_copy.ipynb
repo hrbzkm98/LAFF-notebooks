{
 "cells": [
  {
   "cell_type": "markdown",
   "metadata": {},
   "source": [
    "# The Set_to_zero routine"
   ]
  },
  {
   "cell_type": "markdown",
   "metadata": {},
   "source": [
    "This notebook walks you through how to implement a simple function that sets all elements of a given matrix, \n",
    "stored in numpy matrix A, to zero."
   ]
  },
  {
   "cell_type": "markdown",
   "metadata": {},
   "source": [
    "## Getting started"
   ]
  },
  {
   "cell_type": "markdown",
   "metadata": {},
   "source": [
    "We will use some functions that are part of our laff library (of which this function will become a part) as well as some routines from the FLAME API (Application Programming Interface) that allows us to write code that closely resembles how we typeset algorithms using the FLAME notation.  These functions are imported with the \"import laff as laff\" and \"import flame\" statements."
   ]
  },
  {
   "cell_type": "markdown",
   "metadata": {},
   "source": [
    "## Algorithm"
   ]
  },
  {
   "cell_type": "markdown",
   "metadata": {},
   "source": [
    "<image src=\"https://studio.edx.org/c4x/UTAustinX/UT.5.01x/asset/321ZeroAlgorithm.png\" alt=\"Set matrix to zero algorithm\" width=\"50%\">"
   ]
  },
  {
   "cell_type": "markdown",
   "metadata": {},
   "source": [
    "## The routine"
   ]
  },
  {
   "cell_type": "markdown",
   "metadata": {},
   "source": [
    "The specific laff function we will use is laff.zerov which, when given a row or column vector (stored as a 1 x n or n x 1 matrix) will zero that vector.  The vectors to be zeroed will actually be parts of the matrix A that we overwrite with zeroes.  \n",
    "\n",
    "The flame functions should be self-explanatory if you put the below next to the algorithm for setting a matrix to the zero, expressed using the FLAME notation.\n",
    "\n",
    "It is the merge_1x2 routine that does require an explanation.  The problem is that we want to overwrite A with the result.  That routine takes AT, AB, and copies them back into A.\n",
    "\n",
    "Follow along with the video, using the <a href=\"https://studio.edx.org/c4x/UTAustinX/UT.5.01x/asset/index.html\"> Spark webpage </a>."
   ]
  },
  {
   "cell_type": "code",
   "execution_count": 1,
   "metadata": {},
   "outputs": [],
   "source": [
    "import flame\n",
    "import laff as laff\n",
    "\n",
    "def set_to_zero_unb_var1(A):\n",
    "\n",
    "    AL, AR = flame.part_1x2(A, \\\n",
    "                            0, 'LEFT')\n",
    "\n",
    "    while AL.shape[1] < A.shape[1]:\n",
    "\n",
    "        A0, a1, A2 = flame.repart_1x2_to_1x3(AL, AR, \\\n",
    "                                             1, 'RIGHT')\n",
    "\n",
    "        #------------------------------------------------------------#\n",
    "        laff.zerov(a1)\n",
    "        #------------------------------------------------------------#\n",
    "\n",
    "        AL, AR = flame.cont_with_1x3_to_1x2(A0, a1, A2, \\\n",
    "                                            'LEFT')"
   ]
  },
  {
   "cell_type": "markdown",
   "metadata": {},
   "source": [
    "## Testing"
   ]
  },
  {
   "cell_type": "markdown",
   "metadata": {},
   "source": [
    "Let's quickly test the routine by creating a 5 x 5 matrix and then setting it to zero."
   ]
  },
  {
   "cell_type": "code",
   "execution_count": 2,
   "metadata": {},
   "outputs": [
    {
     "name": "stdout",
     "output_type": "stream",
     "text": [
      "A before =\n",
      "[[0.02662035 0.05231089 0.49335357 0.44744261]\n",
      " [0.04231373 0.6007675  0.41025977 0.45342552]\n",
      " [0.08566831 0.13105654 0.39841025 0.01424154]\n",
      " [0.51840324 0.91547921 0.6312357  0.67184407]\n",
      " [0.44999942 0.96957197 0.04554298 0.62597249]]\n"
     ]
    }
   ],
   "source": [
    "from numpy import random\n",
    "from numpy import matrix\n",
    "\n",
    "A = matrix( random.rand( 5,4 ) )\n",
    "\n",
    "print( 'A before =' )\n",
    "print( A )"
   ]
  },
  {
   "cell_type": "code",
   "execution_count": 4,
   "metadata": {},
   "outputs": [
    {
     "name": "stdout",
     "output_type": "stream",
     "text": [
      "A after =\n",
      "[[0. 0. 0. 0.]\n",
      " [0. 0. 0. 0.]\n",
      " [0. 0. 0. 0.]\n",
      " [0. 0. 0. 0.]\n",
      " [0. 0. 0. 0.]]\n"
     ]
    }
   ],
   "source": [
    "set_to_zero_unb_var1( A )\n",
    "\n",
    "print( 'A after =' )\n",
    "print( A )"
   ]
  },
  {
   "cell_type": "markdown",
   "metadata": {},
   "source": [
    "Bingo, it seems to work!"
   ]
  },
  {
   "cell_type": "markdown",
   "metadata": {},
   "source": [
    "## Try it yourself (homework 3.2.1.2)"
   ]
  },
  {
   "cell_type": "markdown",
   "metadata": {},
   "source": [
    "Now, one could alternatively set a matrix to zero by rows."
   ]
  },
  {
   "cell_type": "markdown",
   "metadata": {},
   "source": [
    "Use the <a href=\"https://studio.edx.org/c4x/UTAustinX/UT.5.01x/asset/index.html\"> Spark webpage </a> to generate the function Set_to_zero_unb_var2( A ) that overwrites A with zeroes one row at a time."
   ]
  },
  {
   "cell_type": "code",
   "execution_count": 5,
   "metadata": {},
   "outputs": [],
   "source": [
    "#insert code here\n",
    "def set_to_zero_unb_var2(A):\n",
    "\n",
    "    AT, \\\n",
    "    AB  = flame.part_2x1(A, \\\n",
    "                         0, 'TOP')\n",
    "\n",
    "    while AT.shape[0] < A.shape[0]:\n",
    "\n",
    "        A0,  \\\n",
    "        a1t, \\\n",
    "        A2   = flame.repart_2x1_to_3x1(AT, \\\n",
    "                                       AB, \\\n",
    "                                       1, 'BOTTOM')\n",
    "\n",
    "        #------------------------------------------------------------#\n",
    "        laff.zerov(a1t)\n",
    "        #------------------------------------------------------------#\n",
    "\n",
    "        AT, \\\n",
    "        AB  = flame.cont_with_3x1_to_2x1(A0,  \\\n",
    "                                         a1t, \\\n",
    "                                         A2,  \\\n",
    "                                         'TOP')"
   ]
  },
  {
   "cell_type": "markdown",
   "metadata": {},
   "source": [
    "Test your routine with the following"
   ]
  },
  {
   "cell_type": "code",
   "execution_count": 6,
   "metadata": {},
   "outputs": [
    {
     "name": "stdout",
     "output_type": "stream",
     "text": [
      "A before =\n",
      "[[0.20763292 0.1033688  0.67313258 0.05967489]\n",
      " [0.01705954 0.48108876 0.21954565 0.95472558]\n",
      " [0.99812887 0.21868281 0.44991276 0.28535584]\n",
      " [0.34360598 0.75613258 0.80766913 0.82572942]\n",
      " [0.96422065 0.3615378  0.3237603  0.25718908]]\n",
      "A after =\n",
      "[[0. 0. 0. 0.]\n",
      " [0. 0. 0. 0.]\n",
      " [0. 0. 0. 0.]\n",
      " [0. 0. 0. 0.]\n",
      " [0. 0. 0. 0.]]\n"
     ]
    }
   ],
   "source": [
    "from numpy import random\n",
    "from numpy import matrix\n",
    "\n",
    "A = matrix( random.rand( 5,4 ) )\n",
    "\n",
    "print( 'A before =' )\n",
    "print( A )\n",
    "\n",
    "set_to_zero_unb_var2( A )\n",
    "print( 'A after =' )\n",
    "print( A )"
   ]
  },
  {
   "cell_type": "markdown",
   "metadata": {},
   "source": [
    "## Watch your code in action!"
   ]
  },
  {
   "cell_type": "markdown",
   "metadata": {},
   "source": [
    "Copy and paste the code into <a href=\"http://edx-org-utaustinx.s3.amazonaws.com/UT501x/PictureFlame/PictureFLAME.html\"> PictureFLAME </a>, a webpage where you can watch your routine in action.  Just cut and paste into the box.  \n",
    "\n",
    "Disclaimer: we implemented a VERY simple interpreter.  If you do something wrong, we cannot guarantee the results.  But if you do it right, you are in for a treat.\n",
    "\n",
    "If you want to reset the problem, just click in the box into which you pasted the code and hit \"next\" again."
   ]
  }
 ],
 "metadata": {
  "kernelspec": {
   "display_name": "Python 3",
   "language": "python",
   "name": "python3"
  },
  "language_info": {
   "codemirror_mode": {
    "name": "ipython",
    "version": 3
   },
   "file_extension": ".py",
   "mimetype": "text/x-python",
   "name": "python",
   "nbconvert_exporter": "python",
   "pygments_lexer": "ipython3",
   "version": "3.7.3"
  }
 },
 "nbformat": 4,
 "nbformat_minor": 1
}
