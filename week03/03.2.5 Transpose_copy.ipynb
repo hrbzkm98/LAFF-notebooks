{
 "cells": [
  {
   "cell_type": "markdown",
   "metadata": {},
   "source": [
    "# Transposing a matrix"
   ]
  },
  {
   "cell_type": "markdown",
   "metadata": {},
   "source": [
    "This notebook walks you through how to implement simple functions that transpose matrix $ A $, storing the result in matrix $ B $."
   ]
  },
  {
   "cell_type": "markdown",
   "metadata": {},
   "source": [
    "## Getting started"
   ]
  },
  {
   "cell_type": "markdown",
   "metadata": {},
   "source": [
    "We will use some functions that are part of our laff library (of which this function will become a part) as well as some routines from the FLAME API (Application Programming Interface) that allows us to write code that closely resembles how we typeset algorithms using the FLAME notation.  These functions are imported with the \"import laff as laff\" and \"import flame\" statements."
   ]
  },
  {
   "cell_type": "markdown",
   "metadata": {},
   "source": [
    "## Algorithm"
   ]
  },
  {
   "cell_type": "markdown",
   "metadata": {},
   "source": [
    "<img src=\"https://studio.edx.org/c4x/UTAustinX/UT.5.01x/asset/325TransposeAlgorithm.png\" alt=\"Transposing a matrix\" width=\"75%\">"
   ]
  },
  {
   "cell_type": "markdown",
   "metadata": {},
   "source": [
    "## The routine"
   ]
  },
  {
   "cell_type": "markdown",
   "metadata": {},
   "source": [
    "Write your <br>\n",
    "<code> Transpose_unb_var1( A, B ) </code> <br>\n",
    "routine, using the <a href=\"https://studio.edx.org/c4x/UTAustinX/UT.5.01x/asset/index.html\"> Spark webpage </a> and the <code> laff.copy </code> routine."
   ]
  },
  {
   "cell_type": "code",
   "execution_count": 1,
   "metadata": {},
   "outputs": [],
   "source": [
    "# insert code here\n",
    "import flame\n",
    "import laff as laff\n",
    "\n",
    "def Transpose_unb_var1(A, B):\n",
    "\n",
    "    AL, AR = flame.part_1x2(A, \\\n",
    "                            0, 'LEFT')\n",
    "\n",
    "    BT, \\\n",
    "    BB  = flame.part_2x1(B, \\\n",
    "                         0, 'TOP')\n",
    "\n",
    "    while AL.shape[1] < A.shape[1]:\n",
    "\n",
    "        A0, a1, A2 = flame.repart_1x2_to_1x3(AL, AR, \\\n",
    "                                             1, 'RIGHT')\n",
    "\n",
    "        B0,  \\\n",
    "        b1t, \\\n",
    "        B2   = flame.repart_2x1_to_3x1(BT, \\\n",
    "                                       BB, \\\n",
    "                                       1, 'BOTTOM')\n",
    "\n",
    "        #------------------------------------------------------------#\n",
    "\n",
    "        laff.copy(a1, b1t)\n",
    "\n",
    "        #------------------------------------------------------------#\n",
    "\n",
    "        AL, AR = flame.cont_with_1x3_to_1x2(A0, a1, A2, \\\n",
    "                                            'LEFT')\n",
    "\n",
    "        BT, \\\n",
    "        BB  = flame.cont_with_3x1_to_2x1(B0,  \\\n",
    "                                         b1t, \\\n",
    "                                         B2,  \\\n",
    "                                         'TOP')\n",
    "\n",
    "    flame.merge_2x1(BT, \\\n",
    "                    BB, B)"
   ]
  },
  {
   "cell_type": "markdown",
   "metadata": {},
   "source": [
    "## Testing"
   ]
  },
  {
   "cell_type": "markdown",
   "metadata": {},
   "source": [
    "Let's quickly test the routine by creating a 5 x 4 matrix $ A $ and a 4 x 5 matrix $ B $ and then transposing $ A $, overwriting $ B $ with the result."
   ]
  },
  {
   "cell_type": "code",
   "execution_count": 2,
   "metadata": {},
   "outputs": [
    {
     "name": "stdout",
     "output_type": "stream",
     "text": [
      "A \n",
      "[[0.55335223 0.96011389 0.53181523 0.03551611]\n",
      " [0.30204556 0.04715879 0.65659992 0.07738024]\n",
      " [0.30588943 0.24064202 0.66861531 0.26907296]\n",
      " [0.21392682 0.94104252 0.51485744 0.67892637]\n",
      " [0.39021577 0.11552649 0.33815892 0.19566387]]\n",
      "B before =\n",
      "[[0.19900609 0.23048969 0.99241784 0.05098714 0.84209855]\n",
      " [0.4541099  0.7867206  0.01783766 0.28331313 0.08411515]\n",
      " [0.49506362 0.3574532  0.14750624 0.14222522 0.69051962]\n",
      " [0.80937899 0.70074828 0.51550819 0.85387541 0.69671195]]\n"
     ]
    }
   ],
   "source": [
    "from numpy import random\n",
    "from numpy import matrix\n",
    "\n",
    "A = matrix( random.rand( 5,4 ) )\n",
    "B = matrix( random.rand( 4,5 ) )\n",
    "\n",
    "print( 'A ' )\n",
    "print( A )\n",
    "\n",
    "\n",
    "print( 'B before =' )\n",
    "print( B )"
   ]
  },
  {
   "cell_type": "code",
   "execution_count": 3,
   "metadata": {},
   "outputs": [
    {
     "name": "stdout",
     "output_type": "stream",
     "text": [
      "A \n",
      "[[0.55335223 0.96011389 0.53181523 0.03551611]\n",
      " [0.30204556 0.04715879 0.65659992 0.07738024]\n",
      " [0.30588943 0.24064202 0.66861531 0.26907296]\n",
      " [0.21392682 0.94104252 0.51485744 0.67892637]\n",
      " [0.39021577 0.11552649 0.33815892 0.19566387]]\n",
      "B after =\n",
      "[[0.55335223 0.30204556 0.30588943 0.21392682 0.39021577]\n",
      " [0.96011389 0.04715879 0.24064202 0.94104252 0.11552649]\n",
      " [0.53181523 0.65659992 0.66861531 0.51485744 0.33815892]\n",
      " [0.03551611 0.07738024 0.26907296 0.67892637 0.19566387]]\n"
     ]
    }
   ],
   "source": [
    "Transpose_unb_var1( A, B )\n",
    "\n",
    "print( 'A ' )\n",
    "print( A )\n",
    "\n",
    "print( 'B after =' )\n",
    "print( B )"
   ]
  },
  {
   "cell_type": "markdown",
   "metadata": {},
   "source": [
    "Bingo, it seems to work!"
   ]
  },
  {
   "cell_type": "markdown",
   "metadata": {},
   "source": [
    "## Try it yourself (Homework 3.2.5.3)"
   ]
  },
  {
   "cell_type": "markdown",
   "metadata": {},
   "source": [
    "Now, an alternative routine that accesses the matrix by rows."
   ]
  },
  {
   "cell_type": "markdown",
   "metadata": {},
   "source": [
    "Use the <a href=\"https://studio.edx.org/c4x/UTAustinX/UT.5.01x/asset/index.html\"> Spark webpage </a> to generate the routine <br>\n",
    "<code> Transpose_unb_var2( A, B )</code>.<br>"
   ]
  },
  {
   "cell_type": "code",
   "execution_count": 4,
   "metadata": {},
   "outputs": [],
   "source": [
    "# insert code here\n",
    "def Transpose_unb_var2(A, B):\n",
    "\n",
    "    AT, \\\n",
    "    AB  = flame.part_2x1(A, \\\n",
    "                         0, 'TOP')\n",
    "\n",
    "    BL, BR = flame.part_1x2(B, \\\n",
    "                            0, 'LEFT')\n",
    "\n",
    "    while AT.shape[0] < A.shape[0]:\n",
    "\n",
    "        A0,  \\\n",
    "        a1t, \\\n",
    "        A2   = flame.repart_2x1_to_3x1(AT, \\\n",
    "                                       AB, \\\n",
    "                                       1, 'BOTTOM')\n",
    "\n",
    "        B0, b1, B2 = flame.repart_1x2_to_1x3(BL, BR, \\\n",
    "                                             1, 'RIGHT')\n",
    "\n",
    "        #------------------------------------------------------------#\n",
    "\n",
    "        laff.copy(a1t, b1)\n",
    "\n",
    "        #------------------------------------------------------------#\n",
    "\n",
    "        AT, \\\n",
    "        AB  = flame.cont_with_3x1_to_2x1(A0,  \\\n",
    "                                         a1t, \\\n",
    "                                         A2,  \\\n",
    "                                         'TOP')\n",
    "\n",
    "        BL, BR = flame.cont_with_1x3_to_1x2(B0, b1, B2, \\\n",
    "                                            'LEFT')\n",
    "\n",
    "    flame.merge_1x2(BL, BR, B)"
   ]
  },
  {
   "cell_type": "markdown",
   "metadata": {},
   "source": [
    "Test your routine with the following"
   ]
  },
  {
   "cell_type": "code",
   "execution_count": 5,
   "metadata": {},
   "outputs": [
    {
     "name": "stdout",
     "output_type": "stream",
     "text": [
      "A \n",
      "[[0.53439853 0.61498768 0.05113731 0.59815442]\n",
      " [0.54087705 0.68433059 0.68986128 0.61688147]\n",
      " [0.79576232 0.17346618 0.76947475 0.86142603]\n",
      " [0.98677079 0.59940608 0.10450693 0.9227491 ]\n",
      " [0.98295528 0.1132598  0.41633315 0.97910179]]\n",
      "B before =\n",
      "[[0.0308236  0.17621828 0.98074084 0.79325934 0.83924103]\n",
      " [0.38072765 0.71980277 0.15907449 0.38834001 0.50719516]\n",
      " [0.09911941 0.00445134 0.89570633 0.83807096 0.55154412]\n",
      " [0.15587083 0.35959331 0.08408129 0.05803455 0.59834753]]\n"
     ]
    }
   ],
   "source": [
    "A = matrix( random.rand( 5,4 ) )\n",
    "B = matrix( random.rand( 4,5 ) )\n",
    "\n",
    "print( 'A ' )\n",
    "print( A )\n",
    "\n",
    "\n",
    "print( 'B before =' )\n",
    "print( B )"
   ]
  },
  {
   "cell_type": "code",
   "execution_count": 6,
   "metadata": {},
   "outputs": [
    {
     "name": "stdout",
     "output_type": "stream",
     "text": [
      "A \n",
      "[[0.53439853 0.61498768 0.05113731 0.59815442]\n",
      " [0.54087705 0.68433059 0.68986128 0.61688147]\n",
      " [0.79576232 0.17346618 0.76947475 0.86142603]\n",
      " [0.98677079 0.59940608 0.10450693 0.9227491 ]\n",
      " [0.98295528 0.1132598  0.41633315 0.97910179]]\n",
      "B after =\n",
      "[[0.53439853 0.54087705 0.79576232 0.98677079 0.98295528]\n",
      " [0.61498768 0.68433059 0.17346618 0.59940608 0.1132598 ]\n",
      " [0.05113731 0.68986128 0.76947475 0.10450693 0.41633315]\n",
      " [0.59815442 0.61688147 0.86142603 0.9227491  0.97910179]]\n"
     ]
    }
   ],
   "source": [
    "Transpose_unb_var2( A, B )\n",
    "\n",
    "print( 'A ' )\n",
    "print( A )\n",
    "\n",
    "print( 'B after =' )\n",
    "print( B )"
   ]
  },
  {
   "cell_type": "markdown",
   "metadata": {},
   "source": [
    "## Watch your code in action!"
   ]
  },
  {
   "cell_type": "markdown",
   "metadata": {},
   "source": [
    "Copy and paste the code into <a href=\"http://edx-org-utaustinx.s3.amazonaws.com/UT501x/PictureFlame/PictureFLAME.html\"> PictureFLAME </a>, a webpage where you can watch your routine in action.  Just cut and paste into the box.  \n",
    "\n",
    "Disclaimer: we implemented a VERY simple interpreter.  If you do something wrong, we cannot guarantee the results.  But if you do it right, you are in for a treat.\n",
    "\n",
    "If you want to reset the problem, just click in the box into which you pasted the code and hit \"next\" again."
   ]
  }
 ],
 "metadata": {
  "kernelspec": {
   "display_name": "Python 3",
   "language": "python",
   "name": "python3"
  },
  "language_info": {
   "codemirror_mode": {
    "name": "ipython",
    "version": 3
   },
   "file_extension": ".py",
   "mimetype": "text/x-python",
   "name": "python",
   "nbconvert_exporter": "python",
   "pygments_lexer": "ipython3",
   "version": "3.7.3"
  }
 },
 "nbformat": 4,
 "nbformat_minor": 2
}
