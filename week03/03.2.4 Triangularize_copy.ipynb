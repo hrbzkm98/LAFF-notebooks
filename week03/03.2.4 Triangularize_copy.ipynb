{
 "cells": [
  {
   "cell_type": "markdown",
   "metadata": {},
   "source": [
    "# \"Triangularizing\" a matrix"
   ]
  },
  {
   "cell_type": "markdown",
   "metadata": {},
   "source": [
    "This notebook walks you through how to implement simple functions that make a square matrix into a triangular matrix by setting the appropriate entries in the matrix to zero or one."
   ]
  },
  {
   "cell_type": "markdown",
   "metadata": {},
   "source": [
    "## Getting started"
   ]
  },
  {
   "cell_type": "markdown",
   "metadata": {},
   "source": [
    "We will use some functions that are part of our laff library (of which this function will become a part) as well as some routines from the FLAME API (Application Programming Interface) that allows us to write code that closely resembles how we typeset algorithms using the FLAME notation.  These functions are imported with the \"import laff as laff\" and \"import flame\" statements."
   ]
  },
  {
   "cell_type": "markdown",
   "metadata": {},
   "source": [
    "## Algorithm"
   ]
  },
  {
   "cell_type": "markdown",
   "metadata": {},
   "source": [
    "<img src=\"https://studio.edx.org/c4x/UTAustinX/UT.5.01x/asset/324TriangularizeAlgorithm.png\" alt=\"Make matrix into a triangular matrix\" width=\"75%\">"
   ]
  },
  {
   "cell_type": "markdown",
   "metadata": {},
   "source": [
    "## The routine"
   ]
  },
  {
   "cell_type": "markdown",
   "metadata": {},
   "source": [
    "Write your <br>\n",
    "<code> Set_to_lower_triangular_matrix_unb_var1( A ) </code> <br>\n",
    "routine, using the <a href=\"https://studio.edx.org/c4x/UTAustinX/UT.5.01x/asset/index.html\"> Spark webpage </a>."
   ]
  },
  {
   "cell_type": "code",
   "execution_count": 1,
   "metadata": {},
   "outputs": [],
   "source": [
    "# insert code here\n",
    "import flame\n",
    "import laff as laff\n",
    "\n",
    "def Set_to_lower_triangular_matrix_unb_var1(A):\n",
    "\n",
    "    ATL, ATR, \\\n",
    "    ABL, ABR  = flame.part_2x2(A, \\\n",
    "                               0, 0, 'TL')\n",
    "\n",
    "    while ATL.shape[0] < A.shape[0]:\n",
    "\n",
    "        A00,  a01,     A02,  \\\n",
    "        a10t, alpha11, a12t, \\\n",
    "        A20,  a21,     A22   = flame.repart_2x2_to_3x3(ATL, ATR, \\\n",
    "                                                       ABL, ABR, \\\n",
    "                                                       1, 1, 'BR')\n",
    "\n",
    "        #------------------------------------------------------------#\n",
    "\n",
    "        laff.zerov(a01)\n",
    "\n",
    "        #------------------------------------------------------------#\n",
    "\n",
    "        ATL, ATR, \\\n",
    "        ABL, ABR  = flame.cont_with_3x3_to_2x2(A00,  a01,     A02,  \\\n",
    "                                               a10t, alpha11, a12t, \\\n",
    "                                               A20,  a21,     A22,  \\\n",
    "                                               'TL')\n",
    "\n",
    "    flame.merge_2x2(ATL, ATR, \\\n",
    "                    ABL, ABR, A)"
   ]
  },
  {
   "cell_type": "markdown",
   "metadata": {},
   "source": [
    "## Testing"
   ]
  },
  {
   "cell_type": "markdown",
   "metadata": {},
   "source": [
    "Let's quickly test the routine by creating a 5 x 5 matrix and then setting its strictly upper triangular part to zero, thus making it lower triangular."
   ]
  },
  {
   "cell_type": "code",
   "execution_count": 2,
   "metadata": {},
   "outputs": [
    {
     "name": "stdout",
     "output_type": "stream",
     "text": [
      "A before =\n",
      "[[0.06310147 0.87723773 0.30460117 0.47381343 0.96126217]\n",
      " [0.24844042 0.29021973 0.17914476 0.52246233 0.83155214]\n",
      " [0.25928188 0.01193456 0.64721367 0.50517064 0.03477324]\n",
      " [0.23222212 0.43472553 0.23932445 0.6776575  0.03479078]\n",
      " [0.38307016 0.63056462 0.12439824 0.2119568  0.63892089]]\n"
     ]
    }
   ],
   "source": [
    "from numpy import random\n",
    "from numpy import matrix\n",
    "\n",
    "A = matrix( random.rand( 5,5 ) )\n",
    "\n",
    "print( 'A before =' )\n",
    "print( A )"
   ]
  },
  {
   "cell_type": "code",
   "execution_count": 3,
   "metadata": {},
   "outputs": [
    {
     "name": "stdout",
     "output_type": "stream",
     "text": [
      "A after =\n",
      "[[0.06310147 0.         0.         0.         0.        ]\n",
      " [0.24844042 0.29021973 0.         0.         0.        ]\n",
      " [0.25928188 0.01193456 0.64721367 0.         0.        ]\n",
      " [0.23222212 0.43472553 0.23932445 0.6776575  0.        ]\n",
      " [0.38307016 0.63056462 0.12439824 0.2119568  0.63892089]]\n"
     ]
    }
   ],
   "source": [
    "Set_to_lower_triangular_matrix_unb_var1( A )\n",
    "\n",
    "print( 'A after =' )\n",
    "print( A )"
   ]
  },
  {
   "cell_type": "markdown",
   "metadata": {},
   "source": [
    "Bingo, it seems to work!"
   ]
  },
  {
   "cell_type": "markdown",
   "metadata": {},
   "source": [
    "## Try it yourself (Homework 3.2.4.6)"
   ]
  },
  {
   "cell_type": "markdown",
   "metadata": {},
   "source": [
    "Now, an alternative routine that accesses the matrix by rows."
   ]
  },
  {
   "cell_type": "markdown",
   "metadata": {},
   "source": [
    "Use the <a href=\"https://studio.edx.org/c4x/UTAustinX/UT.5.01x/asset/index.html\"> Spark webpage </a> to generate the routine <br>\n",
    "<code> Set_to_lower_triangular_matrix_unb_var2( A )</code>.<br>"
   ]
  },
  {
   "cell_type": "code",
   "execution_count": 4,
   "metadata": {},
   "outputs": [],
   "source": [
    "# insert code here\n",
    "import flame\n",
    "import laff as laff\n",
    "\n",
    "def Set_to_lower_triangular_matrix_unb_var2(A):\n",
    "\n",
    "    ATL, ATR, \\\n",
    "    ABL, ABR  = flame.part_2x2(A, \\\n",
    "                               0, 0, 'TL')\n",
    "\n",
    "    while ATL.shape[0] < A.shape[0]:\n",
    "\n",
    "        A00,  a01,     A02,  \\\n",
    "        a10t, alpha11, a12t, \\\n",
    "        A20,  a21,     A22   = flame.repart_2x2_to_3x3(ATL, ATR, \\\n",
    "                                                       ABL, ABR, \\\n",
    "                                                       1, 1, 'BR')\n",
    "\n",
    "        #------------------------------------------------------------#\n",
    "\n",
    "        laff.zerov(a12t)\n",
    "\n",
    "        #------------------------------------------------------------#\n",
    "\n",
    "        ATL, ATR, \\\n",
    "        ABL, ABR  = flame.cont_with_3x3_to_2x2(A00,  a01,     A02,  \\\n",
    "                                               a10t, alpha11, a12t, \\\n",
    "                                               A20,  a21,     A22,  \\\n",
    "                                               'TL')\n",
    "\n",
    "    flame.merge_2x2(ATL, ATR, \\\n",
    "                    ABL, ABR, A)"
   ]
  },
  {
   "cell_type": "markdown",
   "metadata": {},
   "source": [
    "Test your routine with the following"
   ]
  },
  {
   "cell_type": "code",
   "execution_count": 5,
   "metadata": {},
   "outputs": [
    {
     "name": "stdout",
     "output_type": "stream",
     "text": [
      "A before =\n",
      "[[0.33222058 0.22454204 0.40767632 0.64168537 0.58866846]\n",
      " [0.38284147 0.93864742 0.65990962 0.411252   0.55438052]\n",
      " [0.80285821 0.04544935 0.44594086 0.4470571  0.25139311]\n",
      " [0.13938222 0.35013303 0.89251562 0.568397   0.36424181]\n",
      " [0.65688447 0.7614172  0.90706333 0.62242185 0.66831197]]\n",
      "A after =\n",
      "[[0.33222058 0.         0.         0.         0.        ]\n",
      " [0.38284147 0.93864742 0.         0.         0.        ]\n",
      " [0.80285821 0.04544935 0.44594086 0.         0.        ]\n",
      " [0.13938222 0.35013303 0.89251562 0.568397   0.        ]\n",
      " [0.65688447 0.7614172  0.90706333 0.62242185 0.66831197]]\n"
     ]
    }
   ],
   "source": [
    "from numpy import random\n",
    "from numpy import matrix\n",
    "\n",
    "A = matrix( random.rand( 5,5 ) )\n",
    "\n",
    "print( 'A before =' )\n",
    "print( A )\n",
    "\n",
    "Set_to_lower_triangular_matrix_unb_var2( A )\n",
    "print( 'A after =' )\n",
    "print( A )"
   ]
  },
  {
   "cell_type": "markdown",
   "metadata": {},
   "source": [
    "## Watch your code in action!"
   ]
  },
  {
   "cell_type": "markdown",
   "metadata": {},
   "source": [
    "Copy and paste the code into <a href=\"http://edx-org-utaustinx.s3.amazonaws.com/UT501x/PictureFlame/PictureFLAME.html\"> PictureFLAME </a>, a webpage where you can watch your routine in action.  Just cut and paste into the box.  \n",
    "\n",
    "Disclaimer: we implemented a VERY simple interpreter.  If you do something wrong, we cannot guarantee the results.  But if you do it right, you are in for a treat.\n",
    "\n",
    "If you want to reset the problem, just click in the box into which you pasted the code and hit \"next\" again."
   ]
  }
 ],
 "metadata": {
  "kernelspec": {
   "display_name": "Python 3",
   "language": "python",
   "name": "python3"
  },
  "language_info": {
   "codemirror_mode": {
    "name": "ipython",
    "version": 3
   },
   "file_extension": ".py",
   "mimetype": "text/x-python",
   "name": "python",
   "nbconvert_exporter": "python",
   "pygments_lexer": "ipython3",
   "version": "3.7.3"
  }
 },
 "nbformat": 4,
 "nbformat_minor": 2
}
