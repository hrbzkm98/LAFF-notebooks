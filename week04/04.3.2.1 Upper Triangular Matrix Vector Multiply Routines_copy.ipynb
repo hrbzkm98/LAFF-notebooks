{
 "cells": [
  {
   "cell_type": "markdown",
   "metadata": {},
   "source": [
    "# Upper Triangular Matrix Vector Multiply Routines"
   ]
  },
  {
   "cell_type": "markdown",
   "metadata": {},
   "source": [
    "This notebook walks you through how to implement $ y := U x + y $ where $ U $ is upper triangular."
   ]
  },
  {
   "cell_type": "markdown",
   "metadata": {},
   "source": [
    "## Getting started"
   ]
  },
  {
   "cell_type": "markdown",
   "metadata": {},
   "source": [
    "We will use some functions that are part of our laff library (of which this function will become a part) as well as some routines from the FLAME API (Application Programming Interface) that allow us to write code that closely resembles how we typeset algorithms using the FLAME notation.  These functions are imported with the \"import laff as laff\" and \"import flame\" statements."
   ]
  },
  {
   "cell_type": "markdown",
   "metadata": {},
   "source": [
    "## Algorithm that takes dot products"
   ]
  },
  {
   "cell_type": "markdown",
   "metadata": {},
   "source": [
    "<img src=\"https://studio.edx.org/c4x/UTAustinX/UT.5.01x/asset/432_Trmvp_un_unb_var1.png\" alt=\"Alternative matrix-vector multiplication via dot products algorithm\" width=\"50%\">"
   ]
  },
  {
   "cell_type": "markdown",
   "metadata": {},
   "source": [
    "## The routine <br> <code> Tmvmult_un_unb_var1( U, x, y ) </code>"
   ]
  },
  {
   "cell_type": "markdown",
   "metadata": {},
   "source": [
    "This routine, given upper triangular $ U \\in \\mathbb{R}^{n \\times n} $, $ x \\in \\mathbb{R}^n $, and $ y \\in \\mathbb{R}^n $, computes $ y := U x + y $.  The \"_un_\" in the name of the routine indicates this is the \"upper, no transpose\" matrix-vector multiplication.  \n",
    "\n",
    "The specific laff functions we will use are \n",
    "<ul>\n",
    "<li> <code> laff.dots( x, y, alpha ) </code> which computes $ \\alpha := x^T y + \\alpha $.  </li>\n",
    "</ul>\n",
    "\n",
    "Use the <a href=\"https://studio.edx.org/c4x/UTAustinX/UT.5.01x/asset/index.html\"> Spark webpage</a> to generate a code skeleton.  (Make sure you adjust the name of the routine.)"
   ]
  },
  {
   "cell_type": "code",
   "execution_count": 1,
   "metadata": {},
   "outputs": [],
   "source": [
    "import flame\n",
    "import laff as laff\n",
    "\n",
    "def Tmvmult_un_unb_var1(U, x, y):\n",
    "\n",
    "    UTL, UTR, \\\n",
    "    UBL, UBR  = flame.part_2x2(U, \\\n",
    "                               0, 0, 'TL')\n",
    "\n",
    "    xT, \\\n",
    "    xB  = flame.part_2x1(x, \\\n",
    "                         0, 'TOP')\n",
    "\n",
    "    yT, \\\n",
    "    yB  = flame.part_2x1(y, \\\n",
    "                         0, 'TOP')\n",
    "\n",
    "    while UTL.shape[0] < U.shape[0]:\n",
    "\n",
    "        U00,  u01,       U02,  \\\n",
    "        u10t, upsilon11, u12t, \\\n",
    "        U20,  u21,       U22   = flame.repart_2x2_to_3x3(UTL, UTR, \\\n",
    "                                                         UBL, UBR, \\\n",
    "                                                         1, 1, 'BR')\n",
    "\n",
    "        x0,   \\\n",
    "        chi1, \\\n",
    "        x2    = flame.repart_2x1_to_3x1(xT, \\\n",
    "                                        xB, \\\n",
    "                                        1, 'BOTTOM')\n",
    "\n",
    "        y0,   \\\n",
    "        psi1, \\\n",
    "        y2    = flame.repart_2x1_to_3x1(yT, \\\n",
    "                                        yB, \\\n",
    "                                        1, 'BOTTOM')\n",
    "\n",
    "        #------------------------------------------------------------#\n",
    "\n",
    "        laff.dots(upsilon11, chi1, psi1)\n",
    "        laff.dots(u12t, x2, psi1)\n",
    "\n",
    "        #------------------------------------------------------------#\n",
    "\n",
    "        UTL, UTR, \\\n",
    "        UBL, UBR  = flame.cont_with_3x3_to_2x2(U00,  u01,       U02,  \\\n",
    "                                               u10t, upsilon11, u12t, \\\n",
    "                                               U20,  u21,       U22,  \\\n",
    "                                               'TL')\n",
    "\n",
    "        xT, \\\n",
    "        xB  = flame.cont_with_3x1_to_2x1(x0,   \\\n",
    "                                         chi1, \\\n",
    "                                         x2,   \\\n",
    "                                         'TOP')\n",
    "\n",
    "        yT, \\\n",
    "        yB  = flame.cont_with_3x1_to_2x1(y0,   \\\n",
    "                                         psi1, \\\n",
    "                                         y2,   \\\n",
    "                                         'TOP')\n",
    "\n",
    "    flame.merge_2x1(yT, \\\n",
    "                    yB, y)"
   ]
  },
  {
   "cell_type": "markdown",
   "metadata": {},
   "source": [
    "## Testing"
   ]
  },
  {
   "cell_type": "markdown",
   "metadata": {},
   "source": [
    "Let's quickly test the routine by creating a 4 x 4 matrix and related vectors, performing the computation."
   ]
  },
  {
   "cell_type": "code",
   "execution_count": 2,
   "metadata": {},
   "outputs": [
    {
     "name": "stdout",
     "output_type": "stream",
     "text": [
      "U before =\n",
      "[[0.04961322 0.946872   0.59623435 0.37675078]\n",
      " [0.68937096 0.91151027 0.07253809 0.52489933]\n",
      " [0.51931519 0.99264289 0.67808045 0.17418648]\n",
      " [0.68982321 0.36913353 0.29078887 0.55231132]]\n",
      "x before =\n",
      "[[0.73162926]\n",
      " [0.4265258 ]\n",
      " [0.30704265]\n",
      " [0.53143201]]\n",
      "y before =\n",
      "[[0.82370409]\n",
      " [0.51850355]\n",
      " [0.36135024]\n",
      " [0.87765447]]\n"
     ]
    }
   ],
   "source": [
    "from numpy import random\n",
    "from numpy import matrix\n",
    "\n",
    "U = matrix( random.rand( 4,4 ) )\n",
    "x = matrix( random.rand( 4,1 ) )\n",
    "y = matrix( random.rand( 4,1 ) )\n",
    "yold = matrix( random.rand( 4,1 ) )\n",
    "\n",
    "# Notice that U is not upper triangular.  We will only use the upper triangular part.\n",
    "\n",
    "print( 'U before =' )\n",
    "print( U )\n",
    "\n",
    "print( 'x before =' )\n",
    "print( x )\n",
    "\n",
    "print( 'y before =' )\n",
    "print( y )"
   ]
  },
  {
   "cell_type": "code",
   "execution_count": 3,
   "metadata": {},
   "outputs": [
    {
     "name": "stdout",
     "output_type": "stream",
     "text": [
      "y after =\n",
      "[[1.6471547 ]\n",
      " [1.20850679]\n",
      " [0.66211813]\n",
      " [1.17117038]]\n",
      "y - ( np.triu( U ) * x + yold ) = \n",
      "[[-2.22044605e-16]\n",
      " [ 0.00000000e+00]\n",
      " [ 1.11022302e-16]\n",
      " [ 0.00000000e+00]]\n"
     ]
    }
   ],
   "source": [
    "import numpy as np\n",
    "laff.copy( y, yold )   # save the original vector y\n",
    "\n",
    "Tmvmult_un_unb_var1( U, x, y )\n",
    "\n",
    "print( 'y after =' )\n",
    "print( y )\n",
    "\n",
    "print( 'y - ( np.triu( U ) * x + yold ) = ' ) #np.triu makes the matrix upper triangular\n",
    "print( y - ( np.triu( U ) * x + yold ) )"
   ]
  },
  {
   "cell_type": "markdown",
   "metadata": {},
   "source": [
    "Bingo, it seems to work!  (Notice that we are doing floating point computations, which means that due to rounding you may not get an exact \"0\".)"
   ]
  },
  {
   "cell_type": "markdown",
   "metadata": {},
   "source": [
    "## Watch your code in action!"
   ]
  },
  {
   "cell_type": "markdown",
   "metadata": {},
   "source": [
    "Copy and paste the code into <a href=\"http://edx-org-utaustinx.s3.amazonaws.com/UT501x/PictureFlame/PictureFLAME.html\"> PictureFLAME </a>, a webpage where you can watch your routine in action.  Just cut and paste into the box.  \n",
    "\n",
    "Disclaimer: we implemented a VERY simple interpreter.  If you do something wrong, we cannot guarantee the results.  But if you do it right, you are in for a treat.\n",
    "\n",
    "If you want to reset the problem, just click in the box into which you pasted the code and hit \"next\" again."
   ]
  },
  {
   "cell_type": "markdown",
   "metadata": {},
   "source": [
    "## Algorithm that uses axpys"
   ]
  },
  {
   "cell_type": "markdown",
   "metadata": {},
   "source": [
    "<img src=\"https://studio.edx.org/c4x/UTAustinX/UT.5.01x/asset/432_Trmvp_un_unb_var2.png\" alt=\"Alternative matrix-vector multiplication via dot products algorithm\" width=\"50%\">"
   ]
  },
  {
   "cell_type": "markdown",
   "metadata": {},
   "source": [
    "## The routine <br> <code> Tmvmult_un_unb_var2( U, x, y ) </code>"
   ]
  },
  {
   "cell_type": "markdown",
   "metadata": {},
   "source": [
    "This routine, given upper triangular $ U \\in \\mathbb{R}^{n \\times n} $, $ x \\in \\mathbb{R}^n $, and $ y \\in \\mathbb{R}^n $, computes $ y := U x + y $.  The \"_un_\" in the name of the routine indicates this is the \"upper triangular, no transpose\" matrix-vector multiplication.  \n",
    "\n",
    "The specific laff functions we will use are \n",
    "<ul>\n",
    "<li> <code> laff.axpy( alpha, x, y ) </code> which computes $ y := \\alpha x +  y  $.  </li>\n",
    "</ul>\n",
    "\n",
    "Use the <a href=\"https://studio.edx.org/c4x/UTAustinX/UT.5.01x/asset/index.html\"> Spark webpage</a> to generate a code skeleton.  (Make sure you adjust the name of the routine.)"
   ]
  },
  {
   "cell_type": "code",
   "execution_count": 4,
   "metadata": {},
   "outputs": [],
   "source": [
    "def Tmvmult_un_unb_var2(U, x, y):\n",
    "\n",
    "    UTL, UTR, \\\n",
    "    UBL, UBR  = flame.part_2x2(U, \\\n",
    "                               0, 0, 'TL')\n",
    "\n",
    "    xT, \\\n",
    "    xB  = flame.part_2x1(x, \\\n",
    "                         0, 'TOP')\n",
    "\n",
    "    yT, \\\n",
    "    yB  = flame.part_2x1(y, \\\n",
    "                         0, 'TOP')\n",
    "\n",
    "    while UTL.shape[0] < U.shape[0]:\n",
    "\n",
    "        U00,  u01,       U02,  \\\n",
    "        u10t, upsilon11, u12t, \\\n",
    "        U20,  u21,       U22   = flame.repart_2x2_to_3x3(UTL, UTR, \\\n",
    "                                                         UBL, UBR, \\\n",
    "                                                         1, 1, 'BR')\n",
    "\n",
    "        x0,   \\\n",
    "        chi1, \\\n",
    "        x2    = flame.repart_2x1_to_3x1(xT, \\\n",
    "                                        xB, \\\n",
    "                                        1, 'BOTTOM')\n",
    "\n",
    "        y0,   \\\n",
    "        psi1, \\\n",
    "        y2    = flame.repart_2x1_to_3x1(yT, \\\n",
    "                                        yB, \\\n",
    "                                        1, 'BOTTOM')\n",
    "\n",
    "        #------------------------------------------------------------#\n",
    "\n",
    "        laff.axpy(chi1, u01, y0)\n",
    "        laff.axpy(chi1, upsilon11, psi1)\n",
    "\n",
    "        #------------------------------------------------------------#\n",
    "\n",
    "        UTL, UTR, \\\n",
    "        UBL, UBR  = flame.cont_with_3x3_to_2x2(U00,  u01,       U02,  \\\n",
    "                                               u10t, upsilon11, u12t, \\\n",
    "                                               U20,  u21,       U22,  \\\n",
    "                                               'TL')\n",
    "\n",
    "        xT, \\\n",
    "        xB  = flame.cont_with_3x1_to_2x1(x0,   \\\n",
    "                                         chi1, \\\n",
    "                                         x2,   \\\n",
    "                                         'TOP')\n",
    "\n",
    "        yT, \\\n",
    "        yB  = flame.cont_with_3x1_to_2x1(y0,   \\\n",
    "                                         psi1, \\\n",
    "                                         y2,   \\\n",
    "                                         'TOP')\n",
    "\n",
    "    flame.merge_2x1(yT, \\\n",
    "                    yB, y)"
   ]
  },
  {
   "cell_type": "markdown",
   "metadata": {},
   "source": [
    "## Testing"
   ]
  },
  {
   "cell_type": "markdown",
   "metadata": {},
   "source": [
    "Let's quickly test the routine by creating a 4 x 4 matrix and related vectors, performing the computation."
   ]
  },
  {
   "cell_type": "code",
   "execution_count": 5,
   "metadata": {},
   "outputs": [
    {
     "name": "stdout",
     "output_type": "stream",
     "text": [
      "U before =\n",
      "[[0.23054024 0.99024422 0.33290809 0.34781555]\n",
      " [0.00327732 0.45465462 0.612628   0.10948577]\n",
      " [0.11185153 0.70161225 0.83398733 0.72502455]\n",
      " [0.78833859 0.17530866 0.67385587 0.79269805]]\n",
      "x before =\n",
      "[[0.97900952]\n",
      " [0.37831969]\n",
      " [0.83605927]\n",
      " [0.99673974]]\n",
      "y before =\n",
      "[[0.55192227]\n",
      " [0.41371952]\n",
      " [0.88129193]\n",
      " [0.64746067]]\n"
     ]
    }
   ],
   "source": [
    "from numpy import random\n",
    "from numpy import matrix\n",
    "\n",
    "U = matrix( random.rand( 4,4 ) )\n",
    "x = matrix( random.rand( 4,1 ) )\n",
    "y = matrix( random.rand( 4,1 ) )\n",
    "yold = matrix( random.rand( 4,1 ) )\n",
    "\n",
    "# U is not upper triangular.  We will only use the upper triangular part.\n",
    "\n",
    "print( 'U before =' )\n",
    "print( U )\n",
    "\n",
    "print( 'x before =' )\n",
    "print( x )\n",
    "\n",
    "print( 'y before =' )\n",
    "print( y )"
   ]
  },
  {
   "cell_type": "code",
   "execution_count": 6,
   "metadata": {},
   "outputs": [
    {
     "name": "stdout",
     "output_type": "stream",
     "text": [
      "y after =\n",
      "[[1.77726473]\n",
      " [1.20704645]\n",
      " [2.30121554]\n",
      " [1.43757432]]\n",
      "y - ( np.triu( U ) * x + yold ) = \n",
      "[[0.]\n",
      " [0.]\n",
      " [0.]\n",
      " [0.]]\n"
     ]
    }
   ],
   "source": [
    "laff.copy( y, yold )   # save the original vector y\n",
    "\n",
    "Tmvmult_un_unb_var2( U, x, y )\n",
    "\n",
    "print( 'y after =' )\n",
    "print( y )\n",
    "\n",
    "print( 'y - ( np.triu( U ) * x + yold ) = ' ) #np.triu makes the matrix upper triangular\n",
    "print( y - ( np.triu( U ) * x + yold ) )"
   ]
  },
  {
   "cell_type": "markdown",
   "metadata": {},
   "source": [
    "Bingo, it seems to work!  (Notice that we are doing floating point computations, which means that due to rounding you may not get an exact \"0\".)"
   ]
  },
  {
   "cell_type": "markdown",
   "metadata": {},
   "source": [
    "## Watch your code in action!"
   ]
  },
  {
   "cell_type": "markdown",
   "metadata": {},
   "source": [
    "Copy and paste the code into <a href=\"http://edx-org-utaustinx.s3.amazonaws.com/UT501x/PictureFlame/PictureFLAME.html\"> PictureFLAME </a>, a webpage where you can watch your routine in action.  Just cut and paste into the box.  \n",
    "\n",
    "Disclaimer: we implemented a VERY simple interpreter.  If you do something wrong, we cannot guarantee the results.  But if you do it right, you are in for a treat.\n",
    "\n",
    "If you want to reset the problem, just click in the box into which you pasted the code and hit \"next\" again."
   ]
  },
  {
   "cell_type": "code",
   "execution_count": null,
   "metadata": {},
   "outputs": [],
   "source": []
  }
 ],
 "metadata": {
  "kernelspec": {
   "display_name": "Python 3",
   "language": "python",
   "name": "python3"
  },
  "language_info": {
   "codemirror_mode": {
    "name": "ipython",
    "version": 3
   },
   "file_extension": ".py",
   "mimetype": "text/x-python",
   "name": "python",
   "nbconvert_exporter": "python",
   "pygments_lexer": "ipython3",
   "version": "3.7.3"
  }
 },
 "nbformat": 4,
 "nbformat_minor": 2
}
