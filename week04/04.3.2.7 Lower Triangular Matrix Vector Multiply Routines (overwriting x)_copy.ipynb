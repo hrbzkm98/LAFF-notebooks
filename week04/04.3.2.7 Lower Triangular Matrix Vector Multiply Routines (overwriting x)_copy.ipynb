{
 "cells": [
  {
   "cell_type": "markdown",
   "metadata": {},
   "source": [
    "# Lower Triangular Matrix Vector Multiply Routines"
   ]
  },
  {
   "cell_type": "markdown",
   "metadata": {},
   "source": [
    "This notebook walks you through how to implement $ x := L x $ where $ L $ is lower triangular.  Vector $ y $ is not to be touched (and, indeed, not even passed into the routines).  This is a little trickier than you might think.  Order matters, since you don't want to corrupt values of $ x $ that are still needed.  Indeed, you may want to do a few small problems by hand if you don't get the right answer.  Also, PictureFLAME may help you see what is going on."
   ]
  },
  {
   "cell_type": "markdown",
   "metadata": {},
   "source": [
    "## Getting started"
   ]
  },
  {
   "cell_type": "markdown",
   "metadata": {},
   "source": [
    "We will use some functions that are part of our laff library (of which this function will become a part) as well as some routines from the FLAME API (Application Programming Interface) that allows us to write code that closely resembles how we typeset algorithms using the FLAME notation.  These functions are imported with the \"import laff as laff\" and \"import flame\" statements."
   ]
  },
  {
   "cell_type": "markdown",
   "metadata": {},
   "source": [
    "## Algorithm that takes dot products"
   ]
  },
  {
   "cell_type": "markdown",
   "metadata": {},
   "source": [
    "## The routine <br> <code> Trmv_ln_unb_var1( L, x ) </code>"
   ]
  },
  {
   "cell_type": "markdown",
   "metadata": {},
   "source": [
    "This routine, given lower triangular $ L \\in \\mathbb{R}^{n \\times n} $ and $ x \\in \\mathbb{R}^n $ computes $ x := L x $.  The \"_un_\" in the name of the routine indicates this is the \"lower, no transpose\" matrix-vector multiplication.  \n",
    "\n",
    "The specific laff functions we will use are \n",
    "<ul>\n",
    "<li> <code> laff.dots( x, y, alpha ) </code> which computes $ \\alpha := x^T y + \\alpha $.  </li>\n",
    "<li> <code> laff.scal( alpha, x ) </code> which computes $ x := \\alpha x $.  </li> (You will want to use this one to update $ \\chi_1 $ if you want to use PictureFrame.)\n",
    "</ul>\n",
    "\n",
    "Use the <a href=\"https://studio.edx.org/c4x/UTAustinX/UT.5.01x/asset/index.html\"> Spark webpage</a> to generate a code skeleton.  (Make sure you adjust the name of the routine.)"
   ]
  },
  {
   "cell_type": "markdown",
   "metadata": {},
   "source": [
    "<h1> <font color=red> NOTE: The algorithms for this operation march from bottom-right to top-left!!! </font> </h1>"
   ]
  },
  {
   "cell_type": "code",
   "execution_count": 1,
   "metadata": {},
   "outputs": [],
   "source": [
    "import flame\n",
    "import laff as laff\n",
    "\n",
    "def Trmv_ln_unb_var1(L, x):\n",
    "\n",
    "    LTL, LTR, \\\n",
    "    LBL, LBR  = flame.part_2x2(L, \\\n",
    "                               0, 0, 'BR')\n",
    "\n",
    "    xT, \\\n",
    "    xB  = flame.part_2x1(x, \\\n",
    "                         0, 'BOTTOM')\n",
    "\n",
    "    while LBR.shape[0] < L.shape[0]:\n",
    "\n",
    "        L00,  l01,      L02,  \\\n",
    "        l10t, lambda11, l12t, \\\n",
    "        L20,  l21,      L22   = flame.repart_2x2_to_3x3(LTL, LTR, \\\n",
    "                                                        LBL, LBR, \\\n",
    "                                                        1, 1, 'TL')\n",
    "\n",
    "        x0,   \\\n",
    "        chi1, \\\n",
    "        x2    = flame.repart_2x1_to_3x1(xT, \\\n",
    "                                        xB, \\\n",
    "                                        1, 'TOP')\n",
    "\n",
    "        #------------------------------------------------------------#\n",
    "\n",
    "        laff.scal(lambda11, chi1)\n",
    "        laff.dots(l10t, x0, chi1)\n",
    "\n",
    "        #------------------------------------------------------------#\n",
    "\n",
    "        LTL, LTR, \\\n",
    "        LBL, LBR  = flame.cont_with_3x3_to_2x2(L00,  l01,      L02,  \\\n",
    "                                               l10t, lambda11, l12t, \\\n",
    "                                               L20,  l21,      L22,  \\\n",
    "                                               'BR')\n",
    "\n",
    "        xT, \\\n",
    "        xB  = flame.cont_with_3x1_to_2x1(x0,   \\\n",
    "                                         chi1, \\\n",
    "                                         x2,   \\\n",
    "                                         'BOTTOM')\n",
    "\n",
    "    flame.merge_2x1(xT, \\\n",
    "                    xB, x)\n"
   ]
  },
  {
   "cell_type": "markdown",
   "metadata": {},
   "source": [
    "## Testing"
   ]
  },
  {
   "cell_type": "markdown",
   "metadata": {},
   "source": [
    "Let's quickly test the routine by creating a 4 x 4 matrix and related vectors, performing the computation."
   ]
  },
  {
   "cell_type": "code",
   "execution_count": 2,
   "metadata": {},
   "outputs": [
    {
     "name": "stdout",
     "output_type": "stream",
     "text": [
      "L before =\n",
      "[[0.50565271 0.12811406 0.08186772 0.9000754 ]\n",
      " [0.59277258 0.76665009 0.70257588 0.82928213]\n",
      " [0.38160516 0.67544731 0.0579909  0.51675956]\n",
      " [0.85104374 0.03912859 0.16937466 0.31202438]]\n",
      "x before =\n",
      "[[0.19108845]\n",
      " [0.82915538]\n",
      " [0.16325694]\n",
      " [0.38463522]]\n"
     ]
    }
   ],
   "source": [
    "from numpy import random\n",
    "from numpy import matrix\n",
    "\n",
    "L = matrix( random.rand( 4,4 ) )\n",
    "x = matrix( random.rand( 4,1 ) )\n",
    "xold = matrix( random.rand( 4,1 ) )\n",
    "\n",
    "# Notice that L is not lower triangular.  We will only use the lower triangular part.\n",
    "\n",
    "print( 'L before =' )\n",
    "print( L )\n",
    "\n",
    "print( 'x before =' )\n",
    "print( x )"
   ]
  },
  {
   "cell_type": "code",
   "execution_count": 3,
   "metadata": {},
   "outputs": [
    {
     "name": "stdout",
     "output_type": "stream",
     "text": [
      "x after =\n",
      "[[0.09662439]\n",
      " [0.74894404]\n",
      " [0.64243852]\n",
      " [0.34273546]]\n",
      "[[0.09662439]\n",
      " [0.74894404]\n",
      " [0.64243852]\n",
      " [0.34273546]]\n",
      "x - ( np.tril( L ) * xold ) = \n",
      "[[ 0.00000000e+00]\n",
      " [ 0.00000000e+00]\n",
      " [ 0.00000000e+00]\n",
      " [-5.55111512e-17]]\n"
     ]
    }
   ],
   "source": [
    "import numpy as np\n",
    "laff.copy( x, xold )   # save the original vector x\n",
    "\n",
    "Trmv_ln_unb_var1( L, x )\n",
    "\n",
    "print( 'x after =' )\n",
    "print( x )\n",
    "\n",
    "print( np.tril( L ) * xold )\n",
    "\n",
    "print( 'x - ( np.tril( L ) * xold ) = ' ) #np.tril makes a matrix lower triangular\n",
    "print( x - ( np.tril( L ) * xold ) )"
   ]
  },
  {
   "cell_type": "markdown",
   "metadata": {},
   "source": [
    "Bingo, it seems to work!  (Notice that we are doing floating point computations, which means that due to rounding you may not get an exact \"0\".)"
   ]
  },
  {
   "cell_type": "markdown",
   "metadata": {},
   "source": [
    "## Watch your code in action!"
   ]
  },
  {
   "cell_type": "markdown",
   "metadata": {},
   "source": [
    "Copy and paste the code into <a href=\"http://edx-org-utaustinx.s3.amazonaws.com/UT501x/PictureFlame/PictureFLAME.html\"> PictureFLAME </a>, a webpage where you can watch your routine in action.  Just cut and paste into the box.  \n",
    "\n",
    "Disclaimer: we implemented a VERY simple interpreter.  If you do something wrong, we cannot guarantee the results.  But if you do it right, you are in for a treat.\n",
    "\n",
    "If you want to reset the problem, just click in the box into which you pasted the code and hit \"next\" again."
   ]
  },
  {
   "cell_type": "markdown",
   "metadata": {},
   "source": [
    "## Algorithm that uses axpys"
   ]
  },
  {
   "cell_type": "markdown",
   "metadata": {},
   "source": [
    "## The routine <br> <code> Trmv_ln_unb_var2( L, x ) </code>"
   ]
  },
  {
   "cell_type": "markdown",
   "metadata": {},
   "source": [
    "This routine, given lower triangular $ L \\in \\mathbb{R}^{n \\times n} $ and $ x \\in \\mathbb{R}^n $ computes $ x := L x $.  The \"_ln_\" in the name of the routine indicates this is the \"lower triangular, no transpose\" matrix-vector multiplication.  \n",
    "\n",
    "The specific laff functions we will use are \n",
    "<ul>\n",
    "<li> <code> laff.axpy( alpha, x, y ) </code> which computes $ y := \\alpha x +  y  $.  </li>\n",
    "<li> <code> laff.scal( alpha, x ) </code> which computes $ x := \\alpha x $.  </li> (You will want to use this one to update $ \\chi_1 $ if you want to use PictureFrame.)\n",
    "</ul>\n",
    "\n",
    "Use the <a href=\"https://studio.edx.org/c4x/UTAustinX/UT.5.01x/asset/index.html\"> Spark webpage</a> to generate a code skeleton.  (Make sure you adjust the name of the routine.)"
   ]
  },
  {
   "cell_type": "code",
   "execution_count": 4,
   "metadata": {},
   "outputs": [],
   "source": [
    "def Trmv_ln_unb_var2(L, x):\n",
    "\n",
    "    LTL, LTR, \\\n",
    "    LBL, LBR  = flame.part_2x2(L, \\\n",
    "                               0, 0, 'BR')\n",
    "\n",
    "    xT, \\\n",
    "    xB  = flame.part_2x1(x, \\\n",
    "                         0, 'BOTTOM')\n",
    "\n",
    "    while LBR.shape[0] < L.shape[0]:\n",
    "\n",
    "        L00,  l01,      L02,  \\\n",
    "        l10t, lambda11, l12t, \\\n",
    "        L20,  l21,      L22   = flame.repart_2x2_to_3x3(LTL, LTR, \\\n",
    "                                                        LBL, LBR, \\\n",
    "                                                        1, 1, 'TL')\n",
    "\n",
    "        x0,   \\\n",
    "        chi1, \\\n",
    "        x2    = flame.repart_2x1_to_3x1(xT, \\\n",
    "                                        xB, \\\n",
    "                                        1, 'TOP')\n",
    "\n",
    "        #------------------------------------------------------------#\n",
    "\n",
    "        laff.axpy(chi1, l21, x2)\n",
    "        laff.scal(lambda11, chi1)\n",
    "\n",
    "        #------------------------------------------------------------#\n",
    "\n",
    "        LTL, LTR, \\\n",
    "        LBL, LBR  = flame.cont_with_3x3_to_2x2(L00,  l01,      L02,  \\\n",
    "                                               l10t, lambda11, l12t, \\\n",
    "                                               L20,  l21,      L22,  \\\n",
    "                                               'BR')\n",
    "\n",
    "        xT, \\\n",
    "        xB  = flame.cont_with_3x1_to_2x1(x0,   \\\n",
    "                                         chi1, \\\n",
    "                                         x2,   \\\n",
    "                                         'BOTTOM')\n",
    "\n",
    "    flame.merge_2x1(xT, \\\n",
    "                    xB, x)\n"
   ]
  },
  {
   "cell_type": "markdown",
   "metadata": {},
   "source": [
    "## Testing"
   ]
  },
  {
   "cell_type": "markdown",
   "metadata": {},
   "source": [
    "Let's quickly test the routine by creating a 4 x 4 matrix and related vectors, performing the computation."
   ]
  },
  {
   "cell_type": "code",
   "execution_count": 5,
   "metadata": {},
   "outputs": [
    {
     "name": "stdout",
     "output_type": "stream",
     "text": [
      "L before =\n",
      "[[0.94800373 0.42815851 0.12593172 0.90985275]\n",
      " [0.58341779 0.68450374 0.12804429 0.39517578]\n",
      " [0.56313299 0.98559674 0.92533203 0.3738467 ]\n",
      " [0.91612134 0.14218654 0.19798688 0.66021948]]\n",
      "x before =\n",
      "[[0.68801217]\n",
      " [0.81794587]\n",
      " [0.83800253]\n",
      " [0.51147769]]\n"
     ]
    }
   ],
   "source": [
    "from numpy import random\n",
    "from numpy import matrix\n",
    "\n",
    "L = matrix( random.rand( 4,4 ) )\n",
    "x = matrix( random.rand( 4,1 ) )\n",
    "xold = matrix( random.rand( 4,1 ) )\n",
    "\n",
    "# L is not lower triangular.  We will only use the lower triangular part.\n",
    "\n",
    "print( 'L before =' )\n",
    "print( L )\n",
    "\n",
    "print( 'x before =' )\n",
    "print( x )\n"
   ]
  },
  {
   "cell_type": "code",
   "execution_count": 6,
   "metadata": {},
   "outputs": [
    {
     "name": "stdout",
     "output_type": "stream",
     "text": [
      "x after =\n",
      "[[0.6522381 ]\n",
      " [0.96128555]\n",
      " [1.96903772]\n",
      " [1.25020456]]\n",
      "x - ( np.tril( L ) * xold ) = \n",
      "[[ 0.00000000e+00]\n",
      " [ 0.00000000e+00]\n",
      " [-2.22044605e-16]\n",
      " [ 0.00000000e+00]]\n"
     ]
    }
   ],
   "source": [
    "laff.copy( x, xold )   # save the original vector y\n",
    "\n",
    "Trmv_ln_unb_var2( L, x )\n",
    "\n",
    "print( 'x after =' )\n",
    "print( x )\n",
    "\n",
    "print( 'x - ( np.tril( L ) * xold ) = ' ) #np.tril makes the matrix lower triangular\n",
    "print( x - ( np.tril( L ) * xold ) )"
   ]
  },
  {
   "cell_type": "markdown",
   "metadata": {},
   "source": [
    "Bingo, it seems to work!  (Notice that we are doing floating point computations, which means that due to rounding you may not get an exact \"0\".)"
   ]
  },
  {
   "cell_type": "markdown",
   "metadata": {},
   "source": [
    "## Watch your code in action!"
   ]
  },
  {
   "cell_type": "markdown",
   "metadata": {},
   "source": [
    "Copy and paste the code into <a href=\"http://edx-org-utaustinx.s3.amazonaws.com/UT501x/PictureFlame/PictureFLAME.html\"> PictureFLAME </a>, a webpage where you can watch your routine in action.  Just cut and paste into the box.  \n",
    "\n",
    "Disclaimer: we implemented a VERY simple interpreter.  If you do something wrong, we cannot guarantee the results.  But if you do it right, you are in for a treat.\n",
    "\n",
    "If you want to reset the problem, just click in the box into which you pasted the code and hit \"next\" again."
   ]
  },
  {
   "cell_type": "code",
   "execution_count": null,
   "metadata": {},
   "outputs": [],
   "source": []
  }
 ],
 "metadata": {
  "kernelspec": {
   "display_name": "Python 3",
   "language": "python",
   "name": "python3"
  },
  "language_info": {
   "codemirror_mode": {
    "name": "ipython",
    "version": 3
   },
   "file_extension": ".py",
   "mimetype": "text/x-python",
   "name": "python",
   "nbconvert_exporter": "python",
   "pygments_lexer": "ipython3",
   "version": "3.7.3"
  }
 },
 "nbformat": 4,
 "nbformat_minor": 2
}
