{
 "cells": [
  {
   "cell_type": "markdown",
   "metadata": {},
   "source": [
    "# Upper Triangular Matrix Vector Multiply Routines"
   ]
  },
  {
   "cell_type": "markdown",
   "metadata": {},
   "source": [
    "This notebook walks you through how to implement $ x := U x $ where $ U $ is upper triangular.  Vector $ y $ is not to be touched (and, indeed, not even passed into the routines).  This is a little trickier than you might think, especially when you work with lower triangular matrix $ L $, later.  Indeed, you may want to do a few small problems by hand if you don't get the right answer.  Also, PictureFLAME may help you see what is going on."
   ]
  },
  {
   "cell_type": "markdown",
   "metadata": {},
   "source": [
    "## Getting started"
   ]
  },
  {
   "cell_type": "markdown",
   "metadata": {},
   "source": [
    "We will use some functions that are part of our laff library (of which this function will become a part) as well as some routines from the FLAME API (Application Programming Interface) that allows us to write code that closely resembles how we typeset algorithms using the FLAME notation.  These functions are imported with the \"import laff as laff\" and \"import flame\" statements."
   ]
  },
  {
   "cell_type": "markdown",
   "metadata": {},
   "source": [
    "## Algorithm that takes dot products"
   ]
  },
  {
   "cell_type": "markdown",
   "metadata": {},
   "source": [
    "## The routine <br> <code> Trmv_un_unb_var1( U, x ) </code>"
   ]
  },
  {
   "cell_type": "markdown",
   "metadata": {},
   "source": [
    "This routine, given upper triangular $ U \\in \\mathbb{R}^{n \\times n} $ and $ x \\in \\mathbb{R}^n $ computes $ x := U x $.  The \"_un_\" in the name of the routine indicates this is the \"upper, no transpose\" matrix-vector multiplication.  \n",
    "\n",
    "The specific laff functions we will use are \n",
    "<ul>\n",
    "<li> <code> laff.dots( x, y, alpha ) </code> which computes $ \\alpha := x^T y + \\alpha $.  </li>\n",
    "<li> <code> laff.scal( alpha, x ) </code> which computes $ x := \\alpha x $.  </li> (You will want to use this one to update $ \\chi_1 $ if you want to use PictureFrame.)\n",
    "</ul>\n",
    "\n",
    "Use the <a href=\"https://studio.edx.org/c4x/UTAustinX/UT.5.01x/asset/index.html\"> Spark webpage</a> to generate a code skeleton.  (Make sure you adjust the name of the routine.)"
   ]
  },
  {
   "cell_type": "code",
   "execution_count": 1,
   "metadata": {},
   "outputs": [],
   "source": [
    "import flame\n",
    "import laff as laff\n",
    "\n",
    "def Trmv_un_unb_var1(U, x):\n",
    "\n",
    "    UTL, UTR, \\\n",
    "    UBL, UBR  = flame.part_2x2(U, \\\n",
    "                               0, 0, 'TL')\n",
    "\n",
    "    xT, \\\n",
    "    xB  = flame.part_2x1(x, \\\n",
    "                         0, 'TOP')\n",
    "\n",
    "    while UTL.shape[0] < U.shape[0]:\n",
    "\n",
    "        U00,  u01,       U02,  \\\n",
    "        u10t, upsilon11, u12t, \\\n",
    "        U20,  u21,       U22   = flame.repart_2x2_to_3x3(UTL, UTR, \\\n",
    "                                                         UBL, UBR, \\\n",
    "                                                         1, 1, 'BR')\n",
    "\n",
    "        x0,   \\\n",
    "        chi1, \\\n",
    "        x2    = flame.repart_2x1_to_3x1(xT, \\\n",
    "                                        xB, \\\n",
    "                                        1, 'BOTTOM')\n",
    "\n",
    "        #------------------------------------------------------------#\n",
    "\n",
    "        laff.scal(upsilon11, chi1)\n",
    "        laff.dots(u12t, x2, chi1)\n",
    "\n",
    "        #------------------------------------------------------------#\n",
    "\n",
    "        UTL, UTR, \\\n",
    "        UBL, UBR  = flame.cont_with_3x3_to_2x2(U00,  u01,       U02,  \\\n",
    "                                               u10t, upsilon11, u12t, \\\n",
    "                                               U20,  u21,       U22,  \\\n",
    "                                               'TL')\n",
    "\n",
    "        xT, \\\n",
    "        xB  = flame.cont_with_3x1_to_2x1(x0,   \\\n",
    "                                         chi1, \\\n",
    "                                         x2,   \\\n",
    "                                         'TOP')\n",
    "\n",
    "    flame.merge_2x1(xT, \\\n",
    "                    xB, x)"
   ]
  },
  {
   "cell_type": "markdown",
   "metadata": {},
   "source": [
    "## Testing"
   ]
  },
  {
   "cell_type": "markdown",
   "metadata": {},
   "source": [
    "Let's quickly test the routine by creating a 4 x 4 matrix and related vectors, performing the computation."
   ]
  },
  {
   "cell_type": "code",
   "execution_count": 2,
   "metadata": {},
   "outputs": [
    {
     "name": "stdout",
     "output_type": "stream",
     "text": [
      "U before =\n",
      "[[0.39787513 0.38811126 0.1554446  0.62945423]\n",
      " [0.43831119 0.25074414 0.72351537 0.70863105]\n",
      " [0.55817981 0.26673516 0.46919849 0.49833077]\n",
      " [0.19034323 0.83051786 0.73862089 0.96867006]]\n",
      "x before =\n",
      "[[0.38844616]\n",
      " [0.83172305]\n",
      " [0.79361282]\n",
      " [0.11968123]]\n"
     ]
    }
   ],
   "source": [
    "from numpy import random\n",
    "from numpy import matrix\n",
    "\n",
    "U = matrix( random.rand( 4,4 ) )\n",
    "x = matrix( random.rand( 4,1 ) )\n",
    "xold = matrix( random.rand( 4,1 ) )\n",
    "\n",
    "# Notice that U is not upper triangular.  We will only use the upper triangular part.\n",
    "\n",
    "print( 'U before =' )\n",
    "print( U )\n",
    "\n",
    "print( 'x before =' )\n",
    "print( x )"
   ]
  },
  {
   "cell_type": "code",
   "execution_count": 3,
   "metadata": {},
   "outputs": [
    {
     "name": "stdout",
     "output_type": "stream",
     "text": [
      "x after =\n",
      "[[0.67605083]\n",
      " [0.86755059]\n",
      " [0.43200278]\n",
      " [0.11593162]]\n",
      "[[0.67605083]\n",
      " [0.86755059]\n",
      " [0.43200278]\n",
      " [0.11593162]]\n",
      "x - ( np.triu( U ) * xold ) = \n",
      "[[0.]\n",
      " [0.]\n",
      " [0.]\n",
      " [0.]]\n"
     ]
    }
   ],
   "source": [
    "import numpy as np\n",
    "laff.copy( x, xold )   # save the original vector x\n",
    "\n",
    "Trmv_un_unb_var1( U, x )\n",
    "\n",
    "print( 'x after =' )\n",
    "print( x )\n",
    "\n",
    "print( np.triu( U ) * xold )\n",
    "\n",
    "print( 'x - ( np.triu( U ) * xold ) = ' ) #np.triu makes the matrix upper triangular\n",
    "print( x - ( np.triu( U ) * xold ) )"
   ]
  },
  {
   "cell_type": "markdown",
   "metadata": {},
   "source": [
    "Bingo, it seems to work!  (Notice that we are doing floating point computations, which means that due to rounding you may not get an exact \"0\".)"
   ]
  },
  {
   "cell_type": "markdown",
   "metadata": {},
   "source": [
    "## Watch your code in action!"
   ]
  },
  {
   "cell_type": "markdown",
   "metadata": {},
   "source": [
    "Copy and paste the code into <a href=\"http://edx-org-utaustinx.s3.amazonaws.com/UT501x/PictureFlame/PictureFLAME.html\"> PictureFLAME </a>, a webpage where you can watch your routine in action.  Just cut and paste into the box.  \n",
    "\n",
    "Disclaimer: we implemented a VERY simple interpreter.  If you do something wrong, we cannot guarantee the results.  But if you do it right, you are in for a treat.\n",
    "\n",
    "If you want to reset the problem, just click in the box into which you pasted the code and hit \"next\" again."
   ]
  },
  {
   "cell_type": "markdown",
   "metadata": {},
   "source": [
    "## Algorithm that uses axpys"
   ]
  },
  {
   "cell_type": "markdown",
   "metadata": {},
   "source": [
    "## The routine <br> <code> Trmv_un_unb_var2( U, x ) </code>"
   ]
  },
  {
   "cell_type": "markdown",
   "metadata": {},
   "source": [
    "This routine, given upper triangular $ U \\in \\mathbb{R}^{n \\times n} $ and $ x \\in \\mathbb{R}^n $ computes $ x := U x $.  The \"_un_\" in the name of the routine indicates this is the \"upper triangular, no transpose\" matrix-vector multiplication.  \n",
    "\n",
    "The specific laff functions we will use are \n",
    "<ul>\n",
    "<li> <code> laff.axpy( alpha, x, y ) </code> which computes $ y := \\alpha x +  y  $.  </li>\n",
    "<li> <code> laff.scal( alpha, x ) </code> which computes $ x := \\alpha x $.  </li> (You will want to use this one to update $ \\chi_1 $ if you want to use PictureFrame.)\n",
    "</ul>\n",
    "\n",
    "Use the <a href=\"https://studio.edx.org/c4x/UTAustinX/UT.5.01x/asset/index.html\"> Spark webpage</a> to generate a code skeleton.  (Make sure you adjust the name of the routine.)"
   ]
  },
  {
   "cell_type": "code",
   "execution_count": 4,
   "metadata": {},
   "outputs": [],
   "source": [
    "def Trmv_un_unb_var2(U, x):\n",
    "\n",
    "    UTL, UTR, \\\n",
    "    UBL, UBR  = flame.part_2x2(U, \\\n",
    "                               0, 0, 'TL')\n",
    "\n",
    "    xT, \\\n",
    "    xB  = flame.part_2x1(x, \\\n",
    "                         0, 'TOP')\n",
    "\n",
    "    while UTL.shape[0] < U.shape[0]:\n",
    "\n",
    "        U00,  u01,       U02,  \\\n",
    "        u10t, upsilon11, u12t, \\\n",
    "        U20,  u21,       U22   = flame.repart_2x2_to_3x3(UTL, UTR, \\\n",
    "                                                         UBL, UBR, \\\n",
    "                                                         1, 1, 'BR')\n",
    "\n",
    "        x0,   \\\n",
    "        chi1, \\\n",
    "        x2    = flame.repart_2x1_to_3x1(xT, \\\n",
    "                                        xB, \\\n",
    "                                        1, 'BOTTOM')\n",
    "\n",
    "        #------------------------------------------------------------#\n",
    "\n",
    "        laff.axpy(chi1, u01, x0)\n",
    "        laff.scal(upsilon11, chi1)\n",
    "\n",
    "        #------------------------------------------------------------#\n",
    "\n",
    "        UTL, UTR, \\\n",
    "        UBL, UBR  = flame.cont_with_3x3_to_2x2(U00,  u01,       U02,  \\\n",
    "                                               u10t, upsilon11, u12t, \\\n",
    "                                               U20,  u21,       U22,  \\\n",
    "                                               'TL')\n",
    "\n",
    "        xT, \\\n",
    "        xB  = flame.cont_with_3x1_to_2x1(x0,   \\\n",
    "                                         chi1, \\\n",
    "                                         x2,   \\\n",
    "                                         'TOP')\n",
    "\n",
    "    flame.merge_2x1(xT, \\\n",
    "                    xB, x)"
   ]
  },
  {
   "cell_type": "markdown",
   "metadata": {},
   "source": [
    "## Testing"
   ]
  },
  {
   "cell_type": "markdown",
   "metadata": {},
   "source": [
    "Let's quickly test the routine by creating a 4 x 4 matrix and related vectors, performing the computation."
   ]
  },
  {
   "cell_type": "code",
   "execution_count": 5,
   "metadata": {},
   "outputs": [
    {
     "name": "stdout",
     "output_type": "stream",
     "text": [
      "U before =\n",
      "[[0.38401273 0.34461368 0.10622314 0.08022451]\n",
      " [0.28432701 0.11739356 0.01308147 0.25126554]\n",
      " [0.77660891 0.41993476 0.176514   0.29553577]\n",
      " [0.46893241 0.87490424 0.53882804 0.5492167 ]]\n",
      "x before =\n",
      "[[0.25757924]\n",
      " [0.18359536]\n",
      " [0.17964237]\n",
      " [0.63464787]]\n"
     ]
    }
   ],
   "source": [
    "from numpy import random\n",
    "from numpy import matrix\n",
    "\n",
    "U = matrix( random.rand( 4,4 ) )\n",
    "x = matrix( random.rand( 4,1 ) )\n",
    "xold = matrix( random.rand( 4,1 ) )\n",
    "\n",
    "# U is not upper triangular.  We will only use the upper triangular part.\n",
    "\n",
    "print( 'U before =' )\n",
    "print( U )\n",
    "\n",
    "print( 'x before =' )\n",
    "print( x )\n"
   ]
  },
  {
   "cell_type": "code",
   "execution_count": 6,
   "metadata": {},
   "outputs": [
    {
     "name": "stdout",
     "output_type": "stream",
     "text": [
      "x after =\n",
      "[[0.23217967]\n",
      " [0.18336804]\n",
      " [0.21927054]\n",
      " [0.34855921]]\n",
      "x - ( np.triu( U ) * xold ) = \n",
      "[[ 0.00000000e+00]\n",
      " [-2.77555756e-17]\n",
      " [ 0.00000000e+00]\n",
      " [ 0.00000000e+00]]\n"
     ]
    }
   ],
   "source": [
    "laff.copy( x, xold )   # save the original vector y\n",
    "\n",
    "Trmv_un_unb_var2( U, x )\n",
    "\n",
    "print( 'x after =' )\n",
    "print( x )\n",
    "\n",
    "print( 'x - ( np.triu( U ) * xold ) = ' ) #np.triu makes the matrix upper triangular\n",
    "print( x - ( np.triu( U ) * xold ) )"
   ]
  },
  {
   "cell_type": "markdown",
   "metadata": {},
   "source": [
    "Bingo, it seems to work!  (Notice that we are doing floating point computations, which means that due to rounding you may not get an exact \"0\".)"
   ]
  },
  {
   "cell_type": "markdown",
   "metadata": {},
   "source": [
    "## Watch your code in action!"
   ]
  },
  {
   "cell_type": "markdown",
   "metadata": {},
   "source": [
    "Copy and paste the code into <a href=\"http://edx-org-utaustinx.s3.amazonaws.com/UT501x/PictureFlame/PictureFLAME.html\"> PictureFLAME </a>, a webpage where you can watch your routine in action.  Just cut and paste into the box.  \n",
    "\n",
    "Disclaimer: we implemented a VERY simple interpreter.  If you do something wrong, we cannot guarantee the results.  But if you do it right, you are in for a treat.\n",
    "\n",
    "If you want to reset the problem, just click in the box into which you pasted the code and hit \"next\" again."
   ]
  },
  {
   "cell_type": "code",
   "execution_count": null,
   "metadata": {},
   "outputs": [],
   "source": []
  }
 ],
 "metadata": {
  "kernelspec": {
   "display_name": "Python 3",
   "language": "python",
   "name": "python3"
  },
  "language_info": {
   "codemirror_mode": {
    "name": "ipython",
    "version": 3
   },
   "file_extension": ".py",
   "mimetype": "text/x-python",
   "name": "python",
   "nbconvert_exporter": "python",
   "pygments_lexer": "ipython3",
   "version": "3.7.3"
  }
 },
 "nbformat": 4,
 "nbformat_minor": 2
}
